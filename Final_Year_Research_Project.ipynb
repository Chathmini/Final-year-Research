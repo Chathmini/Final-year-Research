{
  "nbformat": 4,
  "nbformat_minor": 0,
  "metadata": {
    "colab": {
      "name": "Final Year Research Project.ipynb",
      "provenance": [],
      "collapsed_sections": []
    },
    "kernelspec": {
      "name": "python3",
      "display_name": "Python 3"
    },
    "language_info": {
      "name": "python"
    }
  },
  "cells": [
    {
      "cell_type": "markdown",
      "source": [
        "**Recommending the career paths for the children with special needs throughout analyzing their physical and mental skills and abilities in Sri-Lanka**\n",
        "\n",
        "---\n",
        "\n"
      ],
      "metadata": {
        "id": "aAoFQ6Wh8woZ"
      }
    },
    {
      "cell_type": "markdown",
      "source": [
        "**Experimental Setup**"
      ],
      "metadata": {
        "id": "LAlETUy19I67"
      }
    },
    {
      "cell_type": "code",
      "execution_count": 1,
      "metadata": {
        "id": "TC8XVpgLCHGJ"
      },
      "outputs": [],
      "source": [
        "from scipy import spatial\n",
        "import pandas as pd\n",
        "import numpy as np"
      ]
    },
    {
      "cell_type": "code",
      "source": [
        "from google.colab import drive\n",
        "drive.mount('/content/gdrive')"
      ],
      "metadata": {
        "id": "Xkj7nYgdCPQW",
        "colab": {
          "base_uri": "https://localhost:8080/"
        },
        "outputId": "07eac84f-a0ad-43ea-e4ed-36129404bda5"
      },
      "execution_count": 2,
      "outputs": [
        {
          "output_type": "stream",
          "name": "stdout",
          "text": [
            "Mounted at /content/gdrive\n"
          ]
        }
      ]
    },
    {
      "cell_type": "code",
      "source": [
        "csv_reader = pd.read_csv('/content/gdrive/My Drive/Data set of children with special need.csv')"
      ],
      "metadata": {
        "id": "EMKm3lMuCYBu"
      },
      "execution_count": 3,
      "outputs": []
    },
    {
      "cell_type": "code",
      "source": [
        "csv_reader.shape"
      ],
      "metadata": {
        "colab": {
          "base_uri": "https://localhost:8080/"
        },
        "id": "ElbNwCHdEKs6",
        "outputId": "b3a02456-30f9-4bcb-cf72-bf9505930e29"
      },
      "execution_count": 4,
      "outputs": [
        {
          "output_type": "execute_result",
          "data": {
            "text/plain": [
              "(40, 17)"
            ]
          },
          "metadata": {},
          "execution_count": 4
        }
      ]
    },
    {
      "cell_type": "markdown",
      "source": [
        "**Preparing the Data**"
      ],
      "metadata": {
        "id": "-5EvZFWpEvYM"
      }
    },
    {
      "cell_type": "code",
      "source": [
        "csv_reader.drop(labels=['Timestamp', 'The Name of the Child', 'Age'], axis=1, inplace = True)\n",
        "csv_reader.shape"
      ],
      "metadata": {
        "colab": {
          "base_uri": "https://localhost:8080/"
        },
        "id": "-xTRekx7EUYb",
        "outputId": "c5833288-fbba-4756-d2c6-f04efd662dad"
      },
      "execution_count": 5,
      "outputs": [
        {
          "output_type": "execute_result",
          "data": {
            "text/plain": [
              "(40, 14)"
            ]
          },
          "metadata": {},
          "execution_count": 5
        }
      ]
    },
    {
      "cell_type": "code",
      "source": [
        "csv_reader[\"Id\"] = csv_reader.index + 1\n",
        "csv_reader.shape"
      ],
      "metadata": {
        "colab": {
          "base_uri": "https://localhost:8080/"
        },
        "id": "YkZUb01oAauN",
        "outputId": "463fc494-2e78-47e1-9760-f2eea118c46a"
      },
      "execution_count": 6,
      "outputs": [
        {
          "output_type": "execute_result",
          "data": {
            "text/plain": [
              "(40, 15)"
            ]
          },
          "metadata": {},
          "execution_count": 6
        }
      ]
    },
    {
      "cell_type": "code",
      "source": [
        "# iterating the columns\n",
        "for col in csv_reader.columns:\n",
        "    print(col)"
      ],
      "metadata": {
        "colab": {
          "base_uri": "https://localhost:8080/"
        },
        "id": "Tp8UY1axRuWe",
        "outputId": "37c071fa-942d-48f1-ac54-f6e370e7431f"
      },
      "execution_count": 7,
      "outputs": [
        {
          "output_type": "stream",
          "name": "stdout",
          "text": [
            "Type of special needs\n",
            "Training Professional course\n",
            "Skills [Doing Self introduce]\n",
            "Skills [Basic maths calculations]\n",
            "Skills [Carry outing own basic needs]\n",
            "Mental Ability [Writing ability]\n",
            "Mental Ability [Reading ability]\n",
            "Mental Ability [Dancing ability]\n",
            "Mental Ability [Musical ability]\n",
            "Mental Ability [Thinking ability]\n",
            "Physical Ability  [Speech ability]\n",
            "Physical Ability  [Hearing ability]\n",
            "Physical Ability  [Visual ability]\n",
            "Physical Ability  [Motor ability]\n",
            "Id\n"
          ]
        }
      ]
    },
    {
      "cell_type": "code",
      "source": [
        "csv_reader.rename(columns = {'Skills [Doing Self introduce]':'Doing Self introduce','Skills [Basic maths calculations]':'Basic maths calculations',\n",
        "                             'Skills [Carry outing own basic needs]':'Carry outing own basic needs','Mental Ability [Writing ability]': 'Writing ability',\n",
        "                             'Mental Ability [Reading ability]':'Reading ability','Mental Ability [Dancing ability]':'Dancing ability',\n",
        "                             'Mental Ability [Musical ability]':'Musical ability', 'Mental Ability [Thinking ability]': 'Thinking ability',\n",
        "                             'Physical Ability  [Speech ability]':'Speech ability', 'Physical Ability  [Hearing ability]':'Hearing ability',\n",
        "                             'Physical Ability  [Visual ability]':'Visual ability', 'Physical Ability  [Motor ability]': 'Motor ability'}, inplace = True)"
      ],
      "metadata": {
        "id": "ZWa7n-zSIoUg"
      },
      "execution_count": 8,
      "outputs": []
    },
    {
      "cell_type": "code",
      "source": [
        "# iterating the columns\n",
        "for col in csv_reader.columns:\n",
        "    print(col)"
      ],
      "metadata": {
        "colab": {
          "base_uri": "https://localhost:8080/"
        },
        "id": "fOp8km04LpUM",
        "outputId": "b98a265c-9cd6-4489-9d04-32c3e782d519"
      },
      "execution_count": 9,
      "outputs": [
        {
          "output_type": "stream",
          "name": "stdout",
          "text": [
            "Type of special needs\n",
            "Training Professional course\n",
            "Doing Self introduce\n",
            "Basic maths calculations\n",
            "Carry outing own basic needs\n",
            "Writing ability\n",
            "Reading ability\n",
            "Dancing ability\n",
            "Musical ability\n",
            "Thinking ability\n",
            "Speech ability\n",
            "Hearing ability\n",
            "Visual ability\n",
            "Motor ability\n",
            "Id\n"
          ]
        }
      ]
    },
    {
      "cell_type": "code",
      "source": [
        "childern_skills_and_ability_table = pd.read_csv('/content/gdrive/My Drive/Data set of children with special need.csv')\n",
        "childern_skills_and_ability_table.drop(labels=['Timestamp', 'The Name of the Child', 'Age', 'Type of special needs','Training Professional course'], axis=1, inplace = True)\n",
        "csv_reader.rename(columns = {'Skills [Doing Self introduce]':'Doing Self introduce','Skills [Basic maths calculations]':'Basic maths calculations',\n",
        "                             'Skills [Carry outing own basic needs]':'Carry outing own basic needs','Mental Ability [Writing ability]': 'Writing ability',\n",
        "                             'Mental Ability [Reading ability]':'Reading ability','Mental Ability [Dancing ability]':'Dancing ability',\n",
        "                             'Mental Ability [Musical ability]':'Musical ability', 'Mental Ability [Thinking ability]': 'Thinking ability',\n",
        "                             'Physical Ability  [Speech ability]':'Speech ability', 'Physical Ability  [Hearing ability]':'Hearing ability',\n",
        "                             'Physical Ability  [Visual ability]':'Visual ability', 'Physical Ability  [Motor ability]': 'Motor ability'}, inplace = True)\n",
        "childern_skills_and_ability_table.shape"
      ],
      "metadata": {
        "id": "SFDhqkWtUM7s",
        "colab": {
          "base_uri": "https://localhost:8080/"
        },
        "outputId": "e0556eeb-d812-4e78-8327-b029dd26d020"
      },
      "execution_count": 10,
      "outputs": [
        {
          "output_type": "execute_result",
          "data": {
            "text/plain": [
              "(40, 12)"
            ]
          },
          "metadata": {},
          "execution_count": 10
        }
      ]
    },
    {
      "cell_type": "code",
      "source": [
        "childern_skills_and_ability_array = []\n",
        "for x in range(0, len(childern_skills_and_ability_table)):\n",
        "  childern_skills_and_ability_array.append(childern_skills_and_ability_table.iloc[x])"
      ],
      "metadata": {
        "id": "27PEcTpdwCQT"
      },
      "execution_count": 11,
      "outputs": []
    },
    {
      "cell_type": "code",
      "source": [
        "print(childern_skills_and_ability_array)"
      ],
      "metadata": {
        "id": "p2TliXHD1qHi"
      },
      "execution_count": null,
      "outputs": []
    },
    {
      "cell_type": "markdown",
      "source": [
        "**Development**"
      ],
      "metadata": {
        "id": "LbyzWd9k6pbe"
      }
    },
    {
      "cell_type": "code",
      "source": [
        "def recommandation_fun(child_skills_and_ability):\n",
        "  distance_values = []\n",
        "  cosine_values = []\n",
        "  min_distance_position =''\n",
        "  min_cosine_position =''\n",
        "\n",
        "  for x in range(0, len(childern_skills_and_ability_array)):\n",
        "    distance_value = spatial.distance.euclidean(child_skills_and_ability,childern_skills_and_ability_array[x])\n",
        "    cosine_value = spatial.distance.cosine(child_skills_and_ability,childern_skills_and_ability_array[x])\n",
        "    distance_values.append(distance_value)\n",
        "    cosine_values.append(cosine_value)\n",
        "\n",
        "  min_distance_value = min(distance_values) \n",
        "  min_distance_position = distance_values.index(min_distance_value)\n",
        "  # print(min_distance_position)\n",
        "  # print(min_distance_value)\n",
        "\n",
        "  min_cosine_value = min(cosine_values) \n",
        "  min_cosine_position = cosine_values.index(min_cosine_value)\n",
        "  # print(min_cosine_position)\n",
        "  # print(min_cosine_value)\n",
        "\n",
        "  print('recommended course using the distance value - ',csv_reader.iloc[min_distance_position,1])\n",
        "  print('recommended course using the cosine value - ', csv_reader.iloc[min_cosine_position,1])"
      ],
      "metadata": {
        "id": "y9DdMO89z_vz"
      },
      "execution_count": 12,
      "outputs": []
    },
    {
      "cell_type": "markdown",
      "source": [
        "**Enter the new child's abilities and skills.**"
      ],
      "metadata": {
        "id": "ZoyqK4gd61iD"
      }
    },
    {
      "cell_type": "code",
      "source": [
        "Name = input('The Name of the Child ')\n",
        "print('Please rate skills and ability of child - 1 for Weak  and 5 is most Clever')\n",
        "Doing_Self_introduce = int(input('Doing Self introduce '))\n",
        "Basic_maths_calculations = int(input('Basic maths calculations '))\n",
        "Carry_outing_own_basic_needs = int(input('Carry outing own basic needs '))\n",
        "Writing_ability = int(input('Writing ability '))\n",
        "Reading_ability = int(input('Reading ability '))\n",
        "Dancing_ability = int(input('Dancing ability '))\n",
        "Musical_ability = int(input('Musical ability '))\n",
        "Thinking_ability = int(input('Thinking ability '))\n",
        "Speech_ability = int(input('Speech ability '))\n",
        "Hearing_ability = int(input('Hearing ability '))\n",
        "Visual_ability = int(input('Visual ability '))\n",
        "Motor_ability = int(input('Motor ability  '))"
      ],
      "metadata": {
        "id": "YMOUKqZWS7r2",
        "colab": {
          "base_uri": "https://localhost:8080/"
        },
        "outputId": "ff2590de-a528-4686-fddd-54d25253fc40"
      },
      "execution_count": 26,
      "outputs": [
        {
          "name": "stdout",
          "output_type": "stream",
          "text": [
            "The Name of the Child chathmini\n",
            "Please rate skills and ability of child - 1 for Weak  and 5 is most Clever\n",
            "Doing Self introduce 2\n",
            "Basic maths calculations 2\n",
            "Carry outing own basic needs 4\n",
            "Writing ability 2\n",
            "Reading ability 2\n",
            "Dancing ability 3\n",
            "Musical ability 2\n",
            "Thinking ability 2\n",
            "Speech ability 3\n",
            "Hearing ability 3\n",
            "Visual ability 5\n",
            "Motor ability  5\n"
          ]
        }
      ]
    },
    {
      "cell_type": "code",
      "source": [
        "child_skills_and_ability = [Doing_Self_introduce,\n",
        "                            Basic_maths_calculations,\n",
        "                            Carry_outing_own_basic_needs,\n",
        "                            Writing_ability,\n",
        "                            Reading_ability,\n",
        "                            Dancing_ability,\n",
        "                            Musical_ability,\n",
        "                            Thinking_ability,\n",
        "                            Speech_ability,\n",
        "                            Hearing_ability,\n",
        "                            Visual_ability,\n",
        "                            Motor_ability]"
      ],
      "metadata": {
        "id": "VlPmZ_pwXObC"
      },
      "execution_count": 27,
      "outputs": []
    },
    {
      "cell_type": "code",
      "source": [
        "print(child_skills_and_ability)"
      ],
      "metadata": {
        "id": "Lxzhm15EYUeY",
        "colab": {
          "base_uri": "https://localhost:8080/"
        },
        "outputId": "baff3dbe-2030-4137-a81a-64a9b2672bc1"
      },
      "execution_count": 28,
      "outputs": [
        {
          "output_type": "stream",
          "name": "stdout",
          "text": [
            "[2, 2, 4, 2, 2, 3, 2, 2, 3, 3, 5, 5]\n"
          ]
        }
      ]
    },
    {
      "cell_type": "markdown",
      "source": [
        "**Result**"
      ],
      "metadata": {
        "id": "DRovzH-E7NZl"
      }
    },
    {
      "cell_type": "code",
      "source": [
        "recommandation_fun(child_skills_and_ability)"
      ],
      "metadata": {
        "id": "W3MdKssmYYs2",
        "colab": {
          "base_uri": "https://localhost:8080/"
        },
        "outputId": "0cda20f8-5d69-43a9-9bca-e74ce9bcf820"
      },
      "execution_count": 29,
      "outputs": [
        {
          "output_type": "stream",
          "name": "stdout",
          "text": [
            "recommended course using the distance value -  Handicraft\n",
            "recommended course using the cosine value -  Handicraft\n"
          ]
        }
      ]
    }
  ]
}